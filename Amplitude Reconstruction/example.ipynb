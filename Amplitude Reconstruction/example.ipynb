{
 "cells": [
  {
   "cell_type": "markdown",
   "metadata": {},
   "source": [
    "# ML-based analysis of particle distributions in high-intensity laser experiments. Reconstruction of the peak amplitude of a laser pulse."
   ]
  },
  {
   "cell_type": "markdown",
   "metadata": {},
   "source": [
    "This file shows the restoration of peak amplitude using machine learning methods.4 methods of machine learning for prediction. Namely:\n",
    "\n",
    "1. Support vector machine.\n",
    "2. Gradient boosting tree.\n",
    "3. Fully connected neural network.\n",
    "4. Convolutional neural network.\n",
    "\n",
    "Also, dimensionality reduction have been tested.  To reduce the dimension, the principal component method will be used."
   ]
  },
  {
   "cell_type": "markdown",
   "metadata": {},
   "source": [
    "## -1. Importing the required libraries"
   ]
  },
  {
   "cell_type": "code",
   "execution_count": 1,
   "metadata": {},
   "outputs": [],
   "source": [
    "import h5py\n",
    "import numpy as np\n",
    "import matplotlib.pyplot as plt"
   ]
  },
  {
   "cell_type": "code",
   "execution_count": 2,
   "metadata": {},
   "outputs": [],
   "source": [
    "from IPython.display import HTML, display"
   ]
  },
  {
   "cell_type": "code",
   "execution_count": 3,
   "metadata": {},
   "outputs": [],
   "source": [
    "from sklearn.svm import SVR\n",
    "import xgboost as xgb\n",
    "\n",
    "from sklearn import preprocessing\n",
    "from sklearn import metrics\n",
    "\n",
    "from sklearn.decomposition import PCA"
   ]
  },
  {
   "cell_type": "code",
   "execution_count": 4,
   "metadata": {},
   "outputs": [],
   "source": [
    "import tensorflow as tf\n",
    "import random as python_random\n",
    "\n",
    "from keras.layers import Dense, Conv1D, Flatten, MaxPooling1D\n",
    "from keras.models import Sequential\n",
    "from keras import losses as kl\n",
    "from keras import optimizers as opts\n",
    "from keras import initializers"
   ]
  },
  {
   "cell_type": "code",
   "execution_count": 5,
   "metadata": {},
   "outputs": [],
   "source": [
    "import warnings\n",
    "warnings.simplefilter(action='ignore', category=FutureWarning)"
   ]
  },
  {
   "cell_type": "markdown",
   "metadata": {},
   "source": [
    "## 0. Secondary functions"
   ]
  },
  {
   "cell_type": "markdown",
   "metadata": {},
   "source": [
    "Defining functions for reading data. Also, functions for transforming over features and labels, to improve model machine learning. Display the results of the accuracy of the models, a table with metrics will be built. We will count three metrics: mean absolute error, mean relative percentage error, coefficient of determination."
   ]
  },
  {
   "cell_type": "code",
   "execution_count": 6,
   "metadata": {},
   "outputs": [],
   "source": [
    "def read(file):\n",
    "    h5f = h5py.File(file, 'r')\n",
    "\n",
    "    x_train = np.asarray(h5f['x_train'])\n",
    "    y_train = np.asarray(h5f['y_train'])\n",
    "    \n",
    "    x_test = np.asarray(h5f['x_test'])\n",
    "    y_test = np.asarray(h5f['y_test'])\n",
    "    \n",
    "    x_valid = np.asarray(h5f['x_valid'])\n",
    "    y_valid = np.asarray(h5f['y_valid'])\n",
    "    \n",
    "    h5f.close()\n",
    "\n",
    "    return x_train, y_train.ravel(), x_test, y_test.ravel(), x_valid, y_valid.ravel()"
   ]
  },
  {
   "cell_type": "code",
   "execution_count": 7,
   "metadata": {},
   "outputs": [],
   "source": [
    "def scaler_minmax(x_train, x_test, x_valid):\n",
    "    scaler = preprocessing.MinMaxScaler()\n",
    "    scaler.fit(x_train)\n",
    "\n",
    "    x_train = scaler.transform(x_train)\n",
    "    x_test = scaler.transform(x_test)\n",
    "    x_valid = scaler.transform(x_valid)\n",
    "    \n",
    "    return x_train, x_test, x_valid\n",
    "\n",
    "\n",
    "def scaler_label(y_train, y_test, y_valid):\n",
    "    \n",
    "    y_train /= 1000\n",
    "    y_test /= 1000\n",
    "    y_valid /= 1000\n",
    "    \n",
    "    return y_train, y_test, y_valid"
   ]
  },
  {
   "cell_type": "code",
   "execution_count": 8,
   "metadata": {},
   "outputs": [],
   "source": [
    "def data_to_table(data, columns=None):\n",
    "    if len(data) == 0 :\n",
    "        display(HTML('<b>No data</b>'))\n",
    "        return\n",
    "    \n",
    "    hdr = ''\n",
    "    if columns != None:\n",
    "        for col in columns:\n",
    "            hdr = hdr + '<th>' + col + '</th>'\n",
    "            \n",
    "        hdr = '<tr>' + hdr + '</tr>'\n",
    "\n",
    "    dt = ''\n",
    "    for row in data:\n",
    "        dt = dt + '<tr>'\n",
    "        for cell in row:\n",
    "            dt = dt + '<td>' + str(cell) + '</td>'\n",
    "        dt = dt + '</tr>'\n",
    "            \n",
    "    display(HTML('<table>' + hdr + dt + '</table>'))"
   ]
  },
  {
   "cell_type": "code",
   "execution_count": 9,
   "metadata": {},
   "outputs": [],
   "source": [
    "def calculate_mpre(y_test, y_pred):\n",
    "    \"\"\"Calculate mean relative percentage error.\"\"\"\n",
    "    mrpe = 0.0\n",
    "        \n",
    "    for k in range(y_test.shape[0]):\n",
    "        mrpe += np.abs(y_test[k] - y_pred[k]) / np.abs(y_test[k])\n",
    "    mrpe = mrpe * 100 / y_test.shape[0]\n",
    "\n",
    "    return mrpe\n",
    "\n",
    "\n",
    "def regression_metrics(name, y_test, y_valid, y_pred_test, y_pred_valid, scaler=1000):  \n",
    "    y_test *= scaler\n",
    "    y_valid *= scaler\n",
    "    \n",
    "    y_pred_test *= scaler\n",
    "    y_pred_valid *= scaler\n",
    "    \n",
    "    mae_t = metrics.mean_absolute_error(y_test, y_pred_test).round(3)\n",
    "    mrpe_t = calculate_mpre(y_test, y_pred_test).round(3)\n",
    "    R2_t = metrics.r2_score(y_test, y_pred_test).round(5)\n",
    "\n",
    "    mae_v = metrics.mean_absolute_error(y_valid, y_pred_valid).round(3)\n",
    "    mrpe_v = calculate_mpre(y_valid, y_pred_valid).round(3)\n",
    "    R2_v = metrics.r2_score(y_valid, y_pred_valid).round(5)\n",
    "    \n",
    "    tabledata = [[\"Mean absolute error\", mae_v, mae_t],\n",
    "         [\"Mean relative percentage error\", mrpe_v, mrpe_t],\n",
    "         [\"Coefficient of determination\", R2_v, R2_t]]\n",
    "    \n",
    "    print(f\"Method: {name}\")\n",
    "    data_to_table(tabledata, columns=[\"Measure\", \"validation data\", \"test data\"])\n",
    "    \n",
    "    return [mae_t, mrpe_t, R2_t]"
   ]
  },
  {
   "cell_type": "markdown",
   "metadata": {},
   "source": [
    "## 1. Loading data"
   ]
  },
  {
   "cell_type": "markdown",
   "metadata": {},
   "source": [
    "Let's load the data for all models, and also perform the transformation on the data. We will scale the feature and label in the range from 0 to 1."
   ]
  },
  {
   "cell_type": "code",
   "execution_count": 10,
   "metadata": {},
   "outputs": [],
   "source": [
    "file_svm = \"data/data_svm.h5\"\n",
    "file_xgb = \"data/data_xgb.h5\"\n",
    "file_fnn = \"data/data_fnn.h5\"\n",
    "file_cnn = \"data/data_cnn.h5\"\n",
    "\n",
    "x_train_svm, y_train_svm, x_test_svm, y_test_svm, x_valid_svm, y_valid_svm = read(file_svm)\n",
    "x_train_xgb, y_train_xgb, x_test_xgb, y_test_xgb, x_valid_xgb, y_valid_xgb = read(file_xgb)\n",
    "x_train_fnn, y_train_fnn, x_test_fnn, y_test_fnn, x_valid_fnn, y_valid_fnn = read(file_fnn)\n",
    "x_train_cnn, y_train_cnn, x_test_cnn, y_test_cnn, x_valid_cnn, y_valid_cnn = read(file_cnn)\n",
    "\n",
    "x_train_svm, x_test_svm, x_valid_svm = scaler_minmax(x_train_svm, x_test_svm, x_valid_svm)\n",
    "x_train_xgb, x_test_xgb, x_valid_xgb = scaler_minmax(x_train_xgb, x_test_xgb, x_valid_xgb)\n",
    "x_train_fnn, x_test_fnn, x_valid_fnn = scaler_minmax(x_train_fnn, x_test_fnn, x_valid_fnn)\n",
    "x_train_cnn, x_test_cnn, x_valid_cnn = scaler_minmax(x_train_cnn, x_test_cnn, x_valid_cnn)\n",
    "\n",
    "y_train_svm, y_test_svm, y_valid_svm = scaler_label(y_train_svm, y_test_svm, y_valid_svm)\n",
    "y_train_xgb, y_test_xgb, y_valid_xgb = scaler_label(y_train_xgb, y_test_xgb, y_valid_xgb)\n",
    "y_train_fnn, y_test_fnn, y_valid_fnn = scaler_label(y_train_fnn, y_test_fnn, y_valid_fnn)\n",
    "y_train_cnn, y_test_cnn, y_valid_cnn = scaler_label(y_train_cnn, y_test_cnn, y_valid_cnn)"
   ]
  },
  {
   "cell_type": "markdown",
   "metadata": {},
   "source": [
    "Output layer dimension for all neural networks."
   ]
  },
  {
   "cell_type": "code",
   "execution_count": 11,
   "metadata": {},
   "outputs": [],
   "source": [
    "output_dim_nn = 1"
   ]
  },
  {
   "cell_type": "markdown",
   "metadata": {},
   "source": [
    "Below, for each method, we present the best results achieved with the best choice of hyperparameters. There was no desire to get the best result on this task. It was necessary to demonstrate the possibility of solving the problem with high accuracy using machine learning methods."
   ]
  },
  {
   "cell_type": "markdown",
   "metadata": {},
   "source": [
    "## 2. Support vector machine"
   ]
  },
  {
   "cell_type": "code",
   "execution_count": 12,
   "metadata": {},
   "outputs": [],
   "source": [
    "regressor = SVR(kernel='rbf', C=30.0, epsilon=0.0003)\n",
    "regressor.fit(x_train_svm, y_train_svm)\n",
    "None"
   ]
  },
  {
   "cell_type": "code",
   "execution_count": 13,
   "metadata": {},
   "outputs": [],
   "source": [
    "y_pred_t_svm = regressor.predict(x_test_svm)\n",
    "y_pred_v_svm = regressor.predict(x_valid_svm)"
   ]
  },
  {
   "cell_type": "code",
   "execution_count": 14,
   "metadata": {},
   "outputs": [
    {
     "name": "stdout",
     "output_type": "stream",
     "text": [
      "Method: Support vector regression\n"
     ]
    },
    {
     "data": {
      "text/html": [
       "<table><tr><th>Measure</th><th>validation data</th><th>test data</th></tr><tr><td>Mean absolute error</td><td>4.212</td><td>4.05</td></tr><tr><td>Mean relative percentage error</td><td>1.113</td><td>1.062</td></tr><tr><td>Coefficient of determination</td><td>0.99936</td><td>0.9993</td></tr></table>"
      ],
      "text/plain": [
       "<IPython.core.display.HTML object>"
      ]
     },
     "metadata": {},
     "output_type": "display_data"
    }
   ],
   "source": [
    "metric_svm = regression_metrics(\"Support vector regression\", \n",
    "                                y_test_svm.copy(), y_valid_svm.copy(),\n",
    "                                y_pred_t_svm.copy(),y_pred_v_svm.copy())"
   ]
  },
  {
   "cell_type": "markdown",
   "metadata": {},
   "source": [
    "## 3. Gradient boosting tree"
   ]
  },
  {
   "cell_type": "code",
   "execution_count": 15,
   "metadata": {},
   "outputs": [],
   "source": [
    "xgbr = xgb.XGBRegressor(learning_rate = 0.10, max_depth = 6,\n",
    "                        reg_lambda = 0.0, n_estimators = 110,\n",
    "                        booster='gbtree', verbosity=0, random_state=42)\n",
    "xgbr.fit(x_train_xgb, y_train_xgb)\n",
    "None"
   ]
  },
  {
   "cell_type": "code",
   "execution_count": 16,
   "metadata": {},
   "outputs": [],
   "source": [
    "y_pred_t_xgb = xgbr.predict(x_test_xgb)\n",
    "y_pred_v_xgb = xgbr.predict(x_valid_xgb)"
   ]
  },
  {
   "cell_type": "code",
   "execution_count": 17,
   "metadata": {},
   "outputs": [
    {
     "name": "stdout",
     "output_type": "stream",
     "text": [
      "Method: Gradient boosting tree\n"
     ]
    },
    {
     "data": {
      "text/html": [
       "<table><tr><th>Measure</th><th>validation data</th><th>test data</th></tr><tr><td>Mean absolute error</td><td>2.622</td><td>2.453</td></tr><tr><td>Mean relative percentage error</td><td>0.782</td><td>0.661</td></tr><tr><td>Coefficient of determination</td><td>0.99957</td><td>0.99967</td></tr></table>"
      ],
      "text/plain": [
       "<IPython.core.display.HTML object>"
      ]
     },
     "metadata": {},
     "output_type": "display_data"
    }
   ],
   "source": [
    "metric_xgb = regression_metrics(\"Gradient boosting tree\", \n",
    "                                y_test_xgb.copy(), y_valid_xgb.copy(),\n",
    "                                y_pred_t_xgb.copy(),y_pred_v_xgb.copy())"
   ]
  },
  {
   "cell_type": "markdown",
   "metadata": {},
   "source": [
    "## 4. Fully connected neural network"
   ]
  },
  {
   "cell_type": "code",
   "execution_count": 18,
   "metadata": {},
   "outputs": [],
   "source": [
    "def compile_fnn(output_dim):\n",
    "    np.random.seed(123)\n",
    "    python_random.seed(123)\n",
    "    tf.random.set_seed(1234)\n",
    "    \n",
    "    model = Sequential()\n",
    "\n",
    "    model.add(Dense(100, activation=\"relu\", kernel_initializer=initializers.he_normal(),\n",
    "                    bias_initializer=initializers.Constant(value=0.01)))\n",
    "    model.add(Dense(75, activation=\"sigmoid\", kernel_initializer=initializers.GlorotNormal(),\n",
    "                    bias_initializer=initializers.Constant(value=0.01)))\n",
    "    model.add(Dense(64, activation=\"relu\", kernel_initializer=initializers.he_normal(),\n",
    "                    bias_initializer=initializers.Constant(value=0.01)))\n",
    "    model.add(Dense(16, activation=\"relu\", kernel_initializer=initializers.he_normal(),\n",
    "                    bias_initializer=initializers.Constant(value=0.01)))\n",
    "    model.add(Dense(4, activation=\"relu\", kernel_initializer=initializers.he_normal(),\n",
    "                    bias_initializer=initializers.Constant(value=0.01)))\n",
    "    \n",
    "    model.add(Dense(output_dim))\n",
    "\n",
    "    opt = opts.Adam(learning_rate=0.001)\n",
    "    model.compile(loss=kl.mean_absolute_error, optimizer=opt)\n",
    "\n",
    "    return model"
   ]
  },
  {
   "cell_type": "code",
   "execution_count": 19,
   "metadata": {
    "scrolled": true
   },
   "outputs": [],
   "source": [
    "model_fnn = compile_fnn(output_dim=output_dim_nn)\n",
    "\n",
    "history = model_fnn.fit(x_train_fnn, y_train_fnn,\n",
    "                         epochs=1420, validation_data=(x_valid_fnn, y_valid_fnn), \n",
    "                         batch_size=32, verbose=0, shuffle=True)\n",
    "\n",
    "None"
   ]
  },
  {
   "cell_type": "code",
   "execution_count": 20,
   "metadata": {},
   "outputs": [],
   "source": [
    "y_pred_t_fnn = model_fnn.predict(x_test_fnn)\n",
    "y_pred_v_fnn = model_fnn.predict(x_valid_fnn)\n",
    "\n",
    "y_pred_t_fnn = y_pred_t_fnn.reshape((y_pred_t_fnn.shape[0],))\n",
    "y_pred_v_fnn = y_pred_v_fnn.reshape((y_pred_t_fnn.shape[0],))"
   ]
  },
  {
   "cell_type": "code",
   "execution_count": 21,
   "metadata": {},
   "outputs": [
    {
     "name": "stdout",
     "output_type": "stream",
     "text": [
      "Method: Fully connected neural network\n"
     ]
    },
    {
     "data": {
      "text/html": [
       "<table><tr><th>Measure</th><th>validation data</th><th>test data</th></tr><tr><td>Mean absolute error</td><td>1.796</td><td>1.784</td></tr><tr><td>Mean relative percentage error</td><td>0.504</td><td>0.512</td></tr><tr><td>Coefficient of determination</td><td>0.99992</td><td>0.99993</td></tr></table>"
      ],
      "text/plain": [
       "<IPython.core.display.HTML object>"
      ]
     },
     "metadata": {},
     "output_type": "display_data"
    }
   ],
   "source": [
    "metric_fnn = regression_metrics(\"Fully connected neural network\", \n",
    "                                y_test_fnn.copy(), y_valid_fnn.copy(),\n",
    "                                y_pred_t_fnn.copy(), y_pred_v_fnn.copy())"
   ]
  },
  {
   "cell_type": "markdown",
   "metadata": {},
   "source": [
    "## 5. Convolutional neural network"
   ]
  },
  {
   "cell_type": "code",
   "execution_count": 22,
   "metadata": {},
   "outputs": [],
   "source": [
    "def compile_cnn(output_dim):\n",
    "    np.random.seed(123)\n",
    "    python_random.seed(123)\n",
    "    tf.random.set_seed(1234)\n",
    "\n",
    "    model = Sequential()\n",
    "\n",
    "    model.add(Conv1D(1, (3), activation='relu'))\n",
    "    model.add(Conv1D(3, (3), activation='relu'))\n",
    "    model.add(MaxPooling1D(pool_size=(2)))\n",
    "\n",
    "    model.add(Conv1D(3, (3), activation='relu'))\n",
    "    model.add(Conv1D(9, (3), activation='relu'))\n",
    "    model.add(MaxPooling1D(pool_size=(2)))\n",
    "\n",
    "    model.add(Flatten())\n",
    "\n",
    "    model.add(Dense(96, activation=\"sigmoid\", kernel_initializer=initializers.GlorotNormal(),\n",
    "                    bias_initializer=initializers.Constant(value=0.00)))\n",
    "    model.add(Dense(64, activation=\"sigmoid\", kernel_initializer=initializers.GlorotNormal(),\n",
    "                    bias_initializer=initializers.Constant(value=0.00)))\n",
    "    model.add(Dense(16, activation=\"relu\", kernel_initializer=initializers.he_normal(),\n",
    "                    bias_initializer=initializers.Constant(value=0.00)))\n",
    "    model.add(Dense(4, activation=\"relu\", kernel_initializer=initializers.he_normal(),\n",
    "                    bias_initializer=initializers.Constant(value=0.00)))\n",
    "\n",
    "    model.add(Dense(output_dim, name=\"output\"))\n",
    "\n",
    "    opt = opts.Adam(learning_rate=0.0003)\n",
    "    model.compile(loss=kl.mean_absolute_error, optimizer=opt)\n",
    "\n",
    "    return model"
   ]
  },
  {
   "cell_type": "code",
   "execution_count": 23,
   "metadata": {},
   "outputs": [],
   "source": [
    "x_train_cnn = np.reshape(x_train_cnn, (x_train_cnn.shape[0], x_train_cnn.shape[1], 1))\n",
    "x_test_cnn = np.reshape(x_test_cnn, (x_test_cnn.shape[0], x_test_cnn.shape[1], 1))\n",
    "x_valid_cnn = np.reshape(x_valid_cnn, (x_valid_cnn.shape[0], x_valid_cnn.shape[1], 1))"
   ]
  },
  {
   "cell_type": "code",
   "execution_count": 24,
   "metadata": {
    "scrolled": true
   },
   "outputs": [],
   "source": [
    "model_cnn = compile_cnn(output_dim=output_dim_nn)\n",
    "\n",
    "model_cnn.fit(x_train_cnn, y_train_cnn,\n",
    "              epochs=1520, validation_data=(x_valid_cnn, y_valid_cnn), \n",
    "              batch_size=32, verbose=0, shuffle=True)\n",
    "\n",
    "None"
   ]
  },
  {
   "cell_type": "code",
   "execution_count": 25,
   "metadata": {},
   "outputs": [],
   "source": [
    "y_pred_t_cnn = model_cnn.predict(x_test_cnn)\n",
    "y_pred_v_cnn = model_cnn.predict(x_valid_cnn)\n",
    "\n",
    "y_pred_t_cnn = y_pred_t_cnn.reshape((y_pred_t_cnn.shape[0],))\n",
    "y_pred_v_cnn = y_pred_v_cnn.reshape((y_pred_v_cnn.shape[0],))"
   ]
  },
  {
   "cell_type": "code",
   "execution_count": 26,
   "metadata": {},
   "outputs": [
    {
     "name": "stdout",
     "output_type": "stream",
     "text": [
      "Method: Convolutional neural network\n"
     ]
    },
    {
     "data": {
      "text/html": [
       "<table><tr><th>Measure</th><th>validation data</th><th>test data</th></tr><tr><td>Mean absolute error</td><td>1.796</td><td>1.827</td></tr><tr><td>Mean relative percentage error</td><td>0.477</td><td>0.496</td></tr><tr><td>Coefficient of determination</td><td>0.99992</td><td>0.99992</td></tr></table>"
      ],
      "text/plain": [
       "<IPython.core.display.HTML object>"
      ]
     },
     "metadata": {},
     "output_type": "display_data"
    }
   ],
   "source": [
    "metric_cnn = regression_metrics(\"Convolutional neural network\", \n",
    "                                y_test_cnn.copy(), y_valid_cnn.copy(),\n",
    "                                y_pred_t_cnn.copy(), y_pred_v_cnn.copy())"
   ]
  },
  {
   "cell_type": "markdown",
   "metadata": {},
   "source": [
    "## 6. Dimension reduction"
   ]
  },
  {
   "cell_type": "markdown",
   "metadata": {},
   "source": [
    "To reduce the dimension, the principal component method will be used. After the dimensionality reduction, we will use a fully connected neural network as a machine learning method, since it has proven itself well. \n",
    "\n",
    "First, let's see how much of the variance each component retains. The components after 6 explain the very low percentage of variance. As it seems, components with 1-4 should definitely be stay, but 5 and 6 are not obvious."
   ]
  },
  {
   "cell_type": "code",
   "execution_count": 27,
   "metadata": {},
   "outputs": [
    {
     "data": {
      "text/plain": [
       "<matplotlib.legend.Legend at 0x15d040b0d68>"
      ]
     },
     "execution_count": 27,
     "metadata": {},
     "output_type": "execute_result"
    },
    {
     "data": {
      "image/png": "[encoded data removed]",
      "text/plain": [
       "<Figure size 864x576 with 1 Axes>"
      ]
     },
     "metadata": {
      "needs_background": "light"
     },
     "output_type": "display_data"
    }
   ],
   "source": [
    "plt.rcParams['figure.figsize'] = (12, 8)\n",
    "\n",
    "pca = PCA(n_components=20)\n",
    "pca.fit(x_train_fnn)\n",
    "\n",
    "plt.plot(range(1, 21), pca.explained_variance_ratio_, label='explained variance by the component')\n",
    "plt.scatter(range(1, 21), pca.explained_variance_ratio_)\n",
    "\n",
    "plt.grid()\n",
    "plt.legend(fontsize=12)"
   ]
  },
  {
   "cell_type": "markdown",
   "metadata": {},
   "source": [
    "As we can see, the fifth component retains almost a percentage of the variance of the original data. While the sixth is 4 times less and retains 0.2 percent of variance only. We will not take it."
   ]
  },
  {
   "cell_type": "code",
   "execution_count": 28,
   "metadata": {},
   "outputs": [
    {
     "name": "stdout",
     "output_type": "stream",
     "text": [
      "component 5: 0.915, component 6: 0.235\n"
     ]
    }
   ],
   "source": [
    "print(f\"component 5: {np.round(pca.explained_variance_ratio_[5]* 100, 3)}, \" \n",
    "      f\"component 6: {np.round(pca.explained_variance_ratio_[6]* 100, 3)}\")"
   ]
  },
  {
   "cell_type": "code",
   "execution_count": 29,
   "metadata": {},
   "outputs": [],
   "source": [
    "pca = PCA(n_components=5)\n",
    "pca.fit(x_train_fnn)\n",
    "\n",
    "x_train_pca = pca.transform(x_train_fnn)\n",
    "x_test_pca = pca.transform(x_test_fnn)\n",
    "x_valid_pca = pca.transform(x_valid_fnn)\n",
    "\n",
    "y_train_pca = y_train_fnn.copy()\n",
    "y_test_pca = y_test_fnn.copy()\n",
    "y_valid_pca = y_valid_fnn.copy()"
   ]
  },
  {
   "cell_type": "markdown",
   "metadata": {},
   "source": [
    "Five principal components explain 98 percent of the variance in the original data."
   ]
  },
  {
   "cell_type": "code",
   "execution_count": 30,
   "metadata": {},
   "outputs": [
    {
     "data": {
      "text/plain": [
       "0.9847676620588585"
      ]
     },
     "execution_count": 30,
     "metadata": {},
     "output_type": "execute_result"
    }
   ],
   "source": [
    "np.sum(pca.explained_variance_ratio_)"
   ]
  },
  {
   "cell_type": "code",
   "execution_count": 31,
   "metadata": {},
   "outputs": [],
   "source": [
    "def compile_pca(output_dim):\n",
    "    np.random.seed(123)\n",
    "    python_random.seed(123)\n",
    "    tf.random.set_seed(1234)\n",
    "    \n",
    "    model = Sequential()\n",
    "\n",
    "    model.add(Dense(10, activation=\"relu\", kernel_initializer=initializers.he_normal(),\n",
    "                    bias_initializer=initializers.Constant(value=0.01)))\n",
    "    model.add(Dense(10, activation=\"relu\", kernel_initializer=initializers.he_normal(),\n",
    "                    bias_initializer=initializers.Constant(value=0.01)))\n",
    "    model.add(Dense(10, activation=\"relu\", kernel_initializer=initializers.he_normal(),\n",
    "                    bias_initializer=initializers.Constant(value=0.01)))\n",
    "    model.add(Dense(8, activation=\"relu\", kernel_initializer=initializers.he_normal(),\n",
    "                    bias_initializer=initializers.Constant(value=0.01)))\n",
    "    model.add(Dense(4, activation=\"relu\", kernel_initializer=initializers.he_normal(),\n",
    "                    bias_initializer=initializers.Constant(value=0.01)))\n",
    "\n",
    "    model.add(Dense(output_dim, name=\"output\"))\n",
    "\n",
    "    opt = opts.Adam(learning_rate=0.0006)\n",
    "    model.compile(loss=kl.mean_absolute_error, optimizer=opt)\n",
    "\n",
    "    return model"
   ]
  },
  {
   "cell_type": "code",
   "execution_count": 32,
   "metadata": {
    "scrolled": true
   },
   "outputs": [],
   "source": [
    "model_pca = compile_pca(output_dim=output_dim_nn)\n",
    "\n",
    "model_pca.fit(x_train_pca, y_train_pca,\n",
    "              epochs=2800, validation_data=(x_valid_pca, y_valid_pca), \n",
    "              batch_size=32, verbose=0, shuffle=True)\n",
    "\n",
    "None"
   ]
  },
  {
   "cell_type": "code",
   "execution_count": 33,
   "metadata": {},
   "outputs": [],
   "source": [
    "y_pred_t_pca = model_pca.predict(x_test_pca)\n",
    "y_pred_v_pca = model_pca.predict(x_valid_pca)\n",
    "\n",
    "y_pred_t_pca = y_pred_t_pca.reshape((y_pred_t_pca.shape[0],))\n",
    "y_pred_v_pca = y_pred_v_pca.reshape((y_pred_v_pca.shape[0],))"
   ]
  },
  {
   "cell_type": "markdown",
   "metadata": {},
   "source": [
    "Reducing the dimension led to a strong decrease in the architecture of the neural network, but did not lead to a significant deterioration in the model's performance."
   ]
  },
  {
   "cell_type": "code",
   "execution_count": 34,
   "metadata": {},
   "outputs": [
    {
     "name": "stdout",
     "output_type": "stream",
     "text": [
      "Method: Fully connected neural network after dimension reduction\n"
     ]
    },
    {
     "data": {
      "text/html": [
       "<table><tr><th>Measure</th><th>validation data</th><th>test data</th></tr><tr><td>Mean absolute error</td><td>1.979</td><td>2.0</td></tr><tr><td>Mean relative percentage error</td><td>0.69</td><td>0.709</td></tr><tr><td>Coefficient of determination</td><td>0.99991</td><td>0.99991</td></tr></table>"
      ],
      "text/plain": [
       "<IPython.core.display.HTML object>"
      ]
     },
     "metadata": {},
     "output_type": "display_data"
    }
   ],
   "source": [
    "metric_pca = regression_metrics(\"Fully connected neural network after dimension reduction\", \n",
    "                                y_test_pca.copy(), y_valid_pca.copy(),\n",
    "                                y_pred_t_pca.copy(), y_pred_v_pca.copy())"
   ]
  },
  {
   "cell_type": "markdown",
   "metadata": {},
   "source": [
    "## Сonclusions"
   ]
  },
  {
   "cell_type": "markdown",
   "metadata": {},
   "source": [
    "For clarity, we will collect all the results of the used models on test data into one table. All models work with high accuracy, which is indicated by the Mean relative error and the coefficient of determination."
   ]
  },
  {
   "cell_type": "code",
   "execution_count": 35,
   "metadata": {},
   "outputs": [
    {
     "data": {
      "text/html": [
       "<table><tr><th>Measure</th><th>SVM</th><th>XGB</th><th>FCNN</th><th>CNN</th><th>FCNN+PCA</th></tr><tr><td>Mean absolute error</td><td>4.05</td><td>2.453</td><td>1.784</td><td>1.827</td><td>2.0</td></tr><tr><td>Mean relative percentage error</td><td>1.062</td><td>0.661</td><td>0.512</td><td>0.496</td><td>0.709</td></tr><tr><td>Coefficient of determination</td><td>0.9993</td><td>0.99967</td><td>0.99993</td><td>0.99992</td><td>0.99991</td></tr></table>"
      ],
      "text/plain": [
       "<IPython.core.display.HTML object>"
      ]
     },
     "metadata": {},
     "output_type": "display_data"
    }
   ],
   "source": [
    "result_model = [metric_svm, metric_xgb, metric_fnn, metric_cnn, metric_pca]\n",
    "\n",
    "tabledata = [[\"Mean absolute error\",],\n",
    "    [\"Mean relative percentage error\",],\n",
    "    [\"Coefficient of determination\",]]\n",
    "\n",
    "for i in range(len(result_model)):\n",
    "    for j in range(3):\n",
    "        tabledata[j] += [result_model[i][j],]\n",
    "\n",
    "data_to_table(tabledata, columns=[\"Measure\", \"SVM\", \"XGB\", \"FCNN\", \"CNN\", \"FCNN+PCA\"])"
   ]
  },
  {
   "cell_type": "markdown",
   "metadata": {},
   "source": [
    "Additionally, we will build a correlation of the predicted label with the correct one. Since the models work in a similar way, let's build such a graph for a fully connected neural network. Additionally, we draw a straight line y = x."
   ]
  },
  {
   "cell_type": "code",
   "execution_count": 36,
   "metadata": {},
   "outputs": [
    {
     "data": {
      "text/plain": [
       "<matplotlib.legend.Legend at 0x15d042d15f8>"
      ]
     },
     "execution_count": 36,
     "metadata": {},
     "output_type": "execute_result"
    },
    {
     "data": {
      "image/png": "[encoded data removed]",
      "text/plain": [
       "<Figure size 576x576 with 1 Axes>"
      ]
     },
     "metadata": {
      "needs_background": "light"
     },
     "output_type": "display_data"
    }
   ],
   "source": [
    "fig, ax = plt.subplots(figsize=(8, 8), constrained_layout=True)\n",
    "\n",
    "plt.rc('axes', labelsize=20)\n",
    "ax.set_xlabel(\"ground truth value\")\n",
    "ax.set_ylabel(\"prediction value\")\n",
    "ax.plot(y_test_fnn, y_test_fnn, color='red', label='linear function prediction=test', linewidth=2.0)\n",
    "ax.scatter(y_test_fnn, y_pred_t_fnn, label='correlation of responses', alpha=0.7, s=15)\n",
    "\n",
    "plt.legend(fontsize=12)"
   ]
  }
 ],
 "metadata": {
  "kernelspec": {
   "display_name": "Python 3",
   "language": "python",
   "name": "python3"
  },
  "language_info": {
   "codemirror_mode": {
    "name": "ipython",
    "version": 3
   },
   "file_extension": ".py",
   "mimetype": "text/x-python",
   "name": "python",
   "nbconvert_exporter": "python",
   "pygments_lexer": "ipython3",
   "version": "3.7.0"
  }
 },
 "nbformat": 4,
 "nbformat_minor": 4
}
